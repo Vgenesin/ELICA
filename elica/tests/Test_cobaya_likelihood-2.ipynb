{
 "cells": [
  {
   "cell_type": "code",
   "execution_count": 27,
   "id": "b0b79761",
   "metadata": {},
   "outputs": [],
   "source": [
    "import numpy as np\n",
    "import matplotlib.pyplot as plt\n",
    "from scipy.interpolate import interp1d\n",
    "from astropy.io import fits\n",
    "import camb\n",
    "from camb import model, initialpower\n",
    "# from .likelihood import EE_100x143\n",
    "import sys\n",
    "sys.path.append('/Users/valentinagenesini/Documents/thesis/ELICA/')\n",
    "# from elica import EE_100x143\n",
    "from elica import mHL\n",
    "\n"
   ]
  },
  {
   "cell_type": "code",
   "execution_count": 28,
   "id": "ace6d277",
   "metadata": {},
   "outputs": [],
   "source": [
    "ntaus = 101\n",
    "ntausover = 10001\n",
    "taus = np.linspace(0,0.10,ntaus)\n",
    "tausover = np.linspace(0,0.10,ntausover)\n",
    "\n",
    "#p,l = np.loadtxt('../../lowell_bware/results/lowl_simall_sroll2_v2_EE_p_tau.dat',unpack=True)"
   ]
  },
  {
   "cell_type": "code",
   "execution_count": 29,
   "id": "b96acac1",
   "metadata": {},
   "outputs": [],
   "source": [
    "# compute_like = EE_100x143()\n",
    "compute_like = mHL()\n",
    "\n",
    "like = []\n"
   ]
  },
  {
   "cell_type": "code",
   "execution_count": 30,
   "id": "42ccf2ba",
   "metadata": {},
   "outputs": [
    {
     "name": "stdout",
     "output_type": "stream",
     "text": [
      "0\n",
      "1\n",
      "2\n",
      " Warning: xe at redshift zero is < 1\n",
      " Check input parameters an Reionization_xe\n",
      " function in the Reionization module\n",
      " Warning: xe at redshift zero is < 1\n",
      " Check input parameters an Reionization_xe\n",
      " function in the Reionization module\n",
      "3\n",
      "4\n",
      "5\n",
      "6\n",
      "7\n",
      "8\n",
      "9\n",
      "10\n",
      "11\n",
      "12\n",
      "13\n",
      "14\n",
      "15\n",
      "16\n",
      "17\n",
      "18\n",
      "19\n",
      "20\n",
      "21\n",
      "22\n",
      "23\n",
      "24\n",
      "25\n",
      "26\n",
      "27\n",
      "28\n",
      "29\n",
      "30\n",
      "31\n",
      "32\n",
      "33\n",
      "34\n",
      "35\n",
      "36\n",
      "37\n",
      "38\n",
      "39\n",
      "40\n",
      "41\n",
      "42\n",
      "43\n",
      "44\n",
      "45\n",
      "46\n",
      "47\n",
      "48\n",
      "49\n",
      "50\n",
      "51\n",
      "52\n",
      "53\n",
      "54\n",
      "55\n",
      "56\n",
      "57\n",
      "58\n",
      "59\n",
      "60\n",
      "61\n",
      "62\n",
      "63\n",
      "64\n",
      "65\n",
      "66\n",
      "67\n",
      "68\n",
      "69\n",
      "70\n",
      "71\n",
      "72\n",
      "73\n",
      "74\n",
      "75\n",
      "76\n",
      "77\n",
      "78\n",
      "79\n",
      "80\n",
      "81\n",
      "82\n",
      "83\n",
      "84\n",
      "85\n",
      "86\n",
      "87\n",
      "88\n",
      "89\n",
      "90\n",
      "91\n",
      "92\n",
      "93\n",
      "94\n",
      "95\n",
      "96\n",
      "97\n",
      "98\n",
      "99\n",
      "100\n"
     ]
    }
   ],
   "source": [
    "for itau,tau in enumerate(taus):\n",
    "    print(itau)\n",
    "    pars = camb.CAMBparams()\n",
    "    As = 1.875*np.exp(2*tau)*1e-9\n",
    "    pars.set_cosmology(H0=67.5, ombh2=0.02236, omch2=0.1202, mnu=0.06, omk=0, tau=tau)\n",
    "    pars.InitPower.set_params(As=As, ns=0.9649, r=0)\n",
    "    pars.set_for_lmax(300, lens_potential_accuracy=0);\n",
    "    results = camb.get_results(pars)\n",
    "    powers =results.get_cmb_power_spectra(pars, CMB_unit='muK')\n",
    "    cls_EE = powers['total'][2:31,1]\n",
    "#    cls_EE = np.loadtxt('../taulike_cls/taulike_cls_'+str(itau).zfill(4)+'_lensedtotCls.dat',\n",
    "#                        unpack=True,\n",
    "#                        usecols=(2,),\n",
    "#                       )\n",
    "#    cls_EE = np.concatenate(([0.,0.],cls_EE))\n",
    "    like.append(compute_like.log_likelihood(cls_EE)*2)"
   ]
  },
  {
   "cell_type": "code",
   "execution_count": 31,
   "id": "d0b6e01a",
   "metadata": {},
   "outputs": [],
   "source": [
    "# lik_esterna=np.loadtxt('/Users/valentinagenesini/Documents/thesis/ELICA/elica/data/100x143/log_posterior_100x143_over10000sims_from_external_notebook')\n",
    "lik_esterna=np.loadtxt('/Users/valentinagenesini/Documents/thesis/ELICA/elica/data/mHL/log_posterior_mHL_500_sims_only_from_external_notebook')"
   ]
  },
  {
   "cell_type": "code",
   "execution_count": 32,
   "id": "f1424141",
   "metadata": {},
   "outputs": [
    {
     "data": {
      "text/plain": [
       "[<matplotlib.lines.Line2D at 0x7fd1a6b7d2b0>]"
      ]
     },
     "execution_count": 32,
     "metadata": {},
     "output_type": "execute_result"
    },
    {
     "data": {
      "image/png": "[encoded data removed]",
      "text/plain": [
       "<Figure size 640x480 with 1 Axes>"
      ]
     },
     "metadata": {},
     "output_type": "display_data"
    }
   ],
   "source": [
    "\n",
    "like = np.array(like)\n",
    "\n",
    "likeover = interp1d(taus,like,kind='cubic')(tausover)\n",
    "\n",
    "ext_tau_range=np.linspace(0.015, 0.12, 1681)\n",
    "\n",
    "ext_like=np.array(2*lik_esterna)\n",
    "\n",
    "\n",
    "probover = np.exp(0.5*(likeover-likeover.max()))\n",
    "probover_ext = np.exp(0.5*(ext_like-ext_like.max()))\n",
    "probover_ext.shape\n",
    "plt.plot(tausover,probover)\n",
    "plt.plot(ext_tau_range,probover_ext)\n",
    "#plt.plot(p,l)"
   ]
  },
  {
   "cell_type": "code",
   "execution_count": 9,
   "id": "5f8827f6",
   "metadata": {},
   "outputs": [
    {
     "ename": "NameError",
     "evalue": "name 'p' is not defined",
     "output_type": "error",
     "traceback": [
      "\u001b[0;31m---------------------------------------------------------------------------\u001b[0m",
      "\u001b[0;31mNameError\u001b[0m                                 Traceback (most recent call last)",
      "Cell \u001b[0;32mIn[9], line 1\u001b[0m\n\u001b[0;32m----> 1\u001b[0m mu \u001b[38;5;241m=\u001b[39m (\u001b[43mp\u001b[49m\u001b[38;5;241m*\u001b[39ml)\u001b[38;5;241m.\u001b[39msum()\u001b[38;5;241m/\u001b[39ml\u001b[38;5;241m.\u001b[39msum()\n\u001b[1;32m      2\u001b[0m sigma \u001b[38;5;241m=\u001b[39m np\u001b[38;5;241m.\u001b[39msqrt((p\u001b[38;5;241m*\u001b[39m\u001b[38;5;241m*\u001b[39m\u001b[38;5;241m2\u001b[39m\u001b[38;5;241m*\u001b[39ml)\u001b[38;5;241m.\u001b[39msum()\u001b[38;5;241m/\u001b[39ml\u001b[38;5;241m.\u001b[39msum() \u001b[38;5;241m-\u001b[39m mu\u001b[38;5;241m*\u001b[39m\u001b[38;5;241m*\u001b[39m\u001b[38;5;241m2\u001b[39m)\n\u001b[1;32m      3\u001b[0m \u001b[38;5;28mprint\u001b[39m(mu,sigma)\n",
      "\u001b[0;31mNameError\u001b[0m: name 'p' is not defined"
     ]
    }
   ],
   "source": [
    "# mu = (p*l).sum()/l.sum()\n",
    "# sigma = np.sqrt((p**2*l).sum()/l.sum() - mu**2)\n",
    "# print(mu,sigma)"
   ]
  },
  {
   "cell_type": "code",
   "execution_count": 10,
   "id": "2c31ebed",
   "metadata": {},
   "outputs": [
    {
     "name": "stdout",
     "output_type": "stream",
     "text": [
      "0.057424772111067314 0.006944956487548636\n"
     ]
    }
   ],
   "source": [
    "mu = (tausover*probover).sum()/probover.sum()\n",
    "sigma = np.sqrt((tausover**2*probover).sum()/probover.sum() - mu**2)\n",
    "print(mu,sigma)"
   ]
  },
  {
   "cell_type": "code",
   "execution_count": 56,
   "id": "a4e4ce69-2541-43e8-bac5-e962e255994e",
   "metadata": {},
   "outputs": [],
   "source": [
    "import compute_CL"
   ]
  },
  {
   "cell_type": "code",
   "execution_count": 57,
   "id": "160c2002-dd05-4a08-9caa-32141cf6b1a4",
   "metadata": {},
   "outputs": [],
   "source": [
    "val = compute_CL.compute_CL(tausover,probover)"
   ]
  },
  {
   "cell_type": "code",
   "execution_count": 58,
   "id": "49532b53-363d-4b81-851f-e96cbdaf259a",
   "metadata": {},
   "outputs": [
    {
     "data": {
      "text/plain": [
       "(0.05644205395264742, 0.006282053952647415, 0.005207946047352585)"
      ]
     },
     "execution_count": 58,
     "metadata": {},
     "output_type": "execute_result"
    }
   ],
   "source": [
    "val[1],val[1]-val[3],val[4]-val[1]"
   ]
  },
  {
   "cell_type": "code",
   "execution_count": 59,
   "id": "8e370c20-29ab-4ed9-bf24-9201c404bf1a",
   "metadata": {},
   "outputs": [
    {
     "data": {
      "text/plain": [
       "(0.05644205395264742, 0.005850969413018321)"
      ]
     },
     "execution_count": 59,
     "metadata": {},
     "output_type": "execute_result"
    }
   ],
   "source": [
    "val[1],val[2]"
   ]
  },
  {
   "cell_type": "code",
   "execution_count": null,
   "id": "305c1092",
   "metadata": {},
   "outputs": [],
   "source": [
    "data = np.load('data/sroll2_cobaya/probEE.npy')\n",
    "like = []"
   ]
  },
  {
   "cell_type": "code",
   "execution_count": null,
   "id": "85c577c2",
   "metadata": {},
   "outputs": [],
   "source": [
    "for itau,tau in enumerate(taus):\n",
    "    cls_EE = np.loadtxt('../taulike_cls/taulike_cls_'+str(itau).zfill(4)+'_lensedtotCls.dat',\n",
    "                        unpack=True,\n",
    "                        usecols=(2,),\n",
    "                       )\n",
    "    like.append(np.diag(data[:,(cls_EE[0:28]/0.0001).astype(int)]).sum()*2)"
   ]
  },
  {
   "cell_type": "code",
   "execution_count": null,
   "id": "186e934d",
   "metadata": {},
   "outputs": [],
   "source": [
    "like = np.array(like)\n",
    "likeover = interp1d(taus,like,kind='cubic')(tausover)\n",
    "probover = np.exp(0.5*(likeover-likeover.max()))\n",
    "plt.plot(tausover,probover)\n",
    "plt.plot(p,l)"
   ]
  },
  {
   "cell_type": "code",
   "execution_count": null,
   "id": "1d732f33",
   "metadata": {},
   "outputs": [],
   "source": [
    "mu = (tausover*probover).sum()/probover.sum()\n",
    "sigma = np.sqrt((tausover**2*probover).sum()/probover.sum() - mu**2)\n",
    "print(mu,sigma)"
   ]
  },
  {
   "cell_type": "code",
   "execution_count": null,
   "id": "f8598f88",
   "metadata": {},
   "outputs": [],
   "source": [
    "hdu = fits.open('../../lowell_bware/clik/simall_100x143_sroll2_v3_EE_Aplanck.clik/clik/check_param')"
   ]
  },
  {
   "cell_type": "code",
   "execution_count": null,
   "id": "5d5e969f",
   "metadata": {},
   "outputs": [],
   "source": [
    "l = np.arange(30)\n",
    "ll = l*(l+1)/2/np.pi\n",
    "plt.plot(l,hdu[0].data[0:30]*ll)"
   ]
  },
  {
   "cell_type": "code",
   "execution_count": 138,
   "id": "6249ab15",
   "metadata": {},
   "outputs": [
    {
     "data": {
      "text/plain": [
       "-195.11285103049872"
      ]
     },
     "execution_count": 138,
     "metadata": {},
     "output_type": "execute_result"
    }
   ],
   "source": [
    "compute_like.log_likelihood(hdu[0].data[0:30]*ll)"
   ]
  },
  {
   "cell_type": "code",
   "execution_count": 139,
   "id": "7cf13d0d",
   "metadata": {},
   "outputs": [
    {
     "data": {
      "text/plain": [
       "-195.112851"
      ]
     },
     "execution_count": 139,
     "metadata": {},
     "output_type": "execute_result"
    }
   ],
   "source": [
    "-195.112851"
   ]
  },
  {
   "cell_type": "code",
   "execution_count": 11,
   "id": "c944738e",
   "metadata": {},
   "outputs": [
    {
     "data": {
      "text/plain": [
       "True"
      ]
     },
     "execution_count": 11,
     "metadata": {},
     "output_type": "execute_result"
    }
   ],
   "source": [
    "import numpy as np\n",
    "from cobaya.likelihoods.planck_2018_lowl.EE_sroll2 import EE_sroll2\n",
    "from astropy.io import fits\n",
    "\n",
    "compute_like = EE_sroll2()\n",
    "\n",
    "h = fits.open('../../lowell_bware/clik/simall_100x143_sroll2_v3_EE_Aplanck.clik/clik/check_param')\n",
    "l = np.arange(30)\n",
    "ll = l*(l+1)/2/np.pi\n",
    "like = compute_like.log_likelihood(h[0].data[0:30]*ll)\n",
    "np.allclose(like,-195.112851,rtol=1e-8)"
   ]
  },
  {
   "cell_type": "code",
   "execution_count": 50,
   "id": "397e0189",
   "metadata": {},
   "outputs": [
    {
     "data": {
      "text/plain": [
       "16.64317129721834"
      ]
     },
     "execution_count": 50,
     "metadata": {},
     "output_type": "execute_result"
    }
   ],
   "source": [
    "np.exp(2.924)*np.exp(-2*0.056)"
   ]
  }
 ],
 "metadata": {
  "kernelspec": {
   "display_name": "python_env",
   "language": "python",
   "name": "python3"
  },
  "language_info": {
   "codemirror_mode": {
    "name": "ipython",
    "version": 3
   },
   "file_extension": ".py",
   "mimetype": "text/x-python",
   "name": "python",
   "nbconvert_exporter": "python",
   "pygments_lexer": "ipython3",
   "version": "3.9.18"
  }
 },
 "nbformat": 4,
 "nbformat_minor": 5
}
